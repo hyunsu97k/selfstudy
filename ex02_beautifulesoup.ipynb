{
 "cells": [
  {
   "cell_type": "markdown",
   "id": "8b9d60c8-b4cc-448f-8877-bb3e4214f870",
   "metadata": {},
   "source": [
    "# Web Crawliing"
   ]
  },
  {
   "cell_type": "markdown",
   "id": "0db0063b-0b19-4b5a-8ed7-8d5f01a9c216",
   "metadata": {},
   "source": [
    "## 3. Beautifule Soup"
   ]
  },
  {
   "cell_type": "markdown",
   "id": "24c0f156-7c96-4474-b44f-0f98f2f8d332",
   "metadata": {},
   "source": [
    "### (1) 준비\n",
    "* BeautifulSoup Documentation : https://www.crummy.com/software/BeautifulSoup/bs4/doc/"
   ]
  },
  {
   "cell_type": "code",
   "execution_count": 1,
   "id": "45553c1f-1f49-496f-a662-e523075e8b60",
   "metadata": {},
   "outputs": [
    {
     "name": "stdout",
     "output_type": "stream",
     "text": [
      "Requirement already satisfied: bs4 in /home/studio-lab-user/.conda/envs/default/lib/python3.9/site-packages (0.0.1)\n",
      "Requirement already satisfied: beautifulsoup4 in /home/studio-lab-user/.conda/envs/default/lib/python3.9/site-packages (from bs4) (4.6.0)\n",
      "Note: you may need to restart the kernel to use updated packages.\n"
     ]
    }
   ],
   "source": [
    "pip install bs4"
   ]
  },
  {
   "cell_type": "code",
   "execution_count": 129,
   "id": "3c21355a-daf3-4bfd-bcc3-d88375a37790",
   "metadata": {},
   "outputs": [],
   "source": [
    "html_doc = \"\"\"\n",
    "<html><head><title>The Dormouse's story</title></head>\n",
    "<body>\n",
    "<p class=\"title\"><b>The Dormouse's story</b></p>\n",
    "\n",
    "<p class=\"story\">Once upon a time there were three little sisters; and their names were\n",
    "<a href=\"http://example.com/elsie\" class=\"sister\" id=\"link1\">Elsie</a>,\n",
    "<a href=\"http://example.com/lacie\" class=\"sister\" id=\"link2\">Lacie</a> and\n",
    "<a href=\"http://example.com/tillie\" class=\"sister\" id=\"link3\">Tillie</a>;\n",
    "and they lived at the bottom of a well.</p>\n",
    "\n",
    "<p class=\"story\">...</p>\n",
    "\"\"\""
   ]
  },
  {
   "cell_type": "code",
   "execution_count": 130,
   "id": "f7d92de6-0161-46e8-a7dc-7f82ee612ed8",
   "metadata": {},
   "outputs": [
    {
     "data": {
      "text/plain": [
       "\n",
       "<html><head><title>The Dormouse's story</title></head>\n",
       "<body>\n",
       "<p class=\"title\"><b>The Dormouse's story</b></p>\n",
       "<p class=\"story\">Once upon a time there were three little sisters; and their names were\n",
       "<a class=\"sister\" href=\"http://example.com/elsie\" id=\"link1\">Elsie</a>,\n",
       "<a class=\"sister\" href=\"http://example.com/lacie\" id=\"link2\">Lacie</a> and\n",
       "<a class=\"sister\" href=\"http://example.com/tillie\" id=\"link3\">Tillie</a>;\n",
       "and they lived at the bottom of a well.</p>\n",
       "<p class=\"story\">...</p>\n",
       "</body></html>"
      ]
     },
     "execution_count": 130,
     "metadata": {},
     "output_type": "execute_result"
    }
   ],
   "source": [
    "from bs4 import BeautifulSoup \n",
    "soup = BeautifulSoup(html_doc, \"html.parser\")\n",
    "soup"
   ]
  },
  {
   "cell_type": "code",
   "execution_count": 131,
   "id": "7b113f7b-4785-4e9f-8556-2afbe39dbbb8",
   "metadata": {},
   "outputs": [
    {
     "name": "stdout",
     "output_type": "stream",
     "text": [
      "<html>\n",
      " <head>\n",
      "  <title>\n",
      "   The Dormouse's story\n",
      "  </title>\n",
      " </head>\n",
      " <body>\n",
      "  <p class=\"title\">\n",
      "   <b>\n",
      "    The Dormouse's story\n",
      "   </b>\n",
      "  </p>\n",
      "  <p class=\"story\">\n",
      "   Once upon a time there were three little sisters; and their names were\n",
      "   <a class=\"sister\" href=\"http://example.com/elsie\" id=\"link1\">\n",
      "    Elsie\n",
      "   </a>\n",
      "   ,\n",
      "   <a class=\"sister\" href=\"http://example.com/lacie\" id=\"link2\">\n",
      "    Lacie\n",
      "   </a>\n",
      "   and\n",
      "   <a class=\"sister\" href=\"http://example.com/tillie\" id=\"link3\">\n",
      "    Tillie\n",
      "   </a>\n",
      "   ;\n",
      "and they lived at the bottom of a well.\n",
      "  </p>\n",
      "  <p class=\"story\">\n",
      "   ...\n",
      "  </p>\n",
      " </body>\n",
      "</html>\n"
     ]
    }
   ],
   "source": [
    "# print(soup)\n",
    "print(soup.prettify())"
   ]
  },
  {
   "cell_type": "code",
   "execution_count": 139,
   "id": "2033cc6a-3fa0-4c8a-9936-24f2ae7b9ae8",
   "metadata": {},
   "outputs": [
    {
     "name": "stdout",
     "output_type": "stream",
     "text": [
      "<title>The Dormouse's story</title>\n",
      "title\n",
      "The Dormouse's story\n",
      "The Dormouse's story\n",
      "<head><title>The Dormouse's story</title></head>\n",
      "None\n",
      "head\n",
      "<p class=\"title\"><b>The Dormouse's story</b></p>\n",
      "None\n",
      "['title']\n",
      "<a class=\"sister\" href=\"http://example.com/tillie\" id=\"link3\">Tillie</a>\n",
      "\n",
      "The Dormouse's story\n",
      "\n",
      "The Dormouse's story\n",
      "Once upon a time there were three little sisters; and their names were\n",
      "Elsie,\n",
      "Lacie and\n",
      "Tillie;\n",
      "and they lived at the bottom of a well.\n",
      "...\n",
      "\n"
     ]
    }
   ],
   "source": [
    "print(soup.title)\n",
    "print(soup.title.name)\n",
    "print(soup.title.string)\n",
    "print(soup.title.text)\n",
    "print(soup.head)\n",
    "print(soup.content)\n",
    "print(soup.title.parent.name)\n",
    "print(soup.p)\n",
    "print(soup.img)\n",
    "print(soup.p[\"class\"])\n",
    "print(soup.find(id=\"link3\"))\n",
    "print(soup.get_text())"
   ]
  },
  {
   "cell_type": "markdown",
   "id": "06038019-0fbf-4ea8-ad93-506902f54cfa",
   "metadata": {},
   "source": [
    "### (2) find() 및 find_all()함수\n",
    "* 함수 인자로는 찾고자 하는 태그의 이름, 속성 기타 등등이 들어간다.\n",
    "* find(): 해당 조건에 맞는 하나의 태그를 가져온다. 중복이면 가장 첫 번째 태그를 가져온다.\n",
    "* find(name, attrs, recursive, string, **kwargs)\n",
    "* find_all(): 해당 조건에 맞는 모든 태그들을 가져온다.\n",
    "* find_all(name, attrs, recursive, string, limit, **kwargs)"
   ]
  },
  {
   "cell_type": "code",
   "execution_count": 127,
   "id": "4246908f-8d4e-4c79-bc2b-437291b52ddb",
   "metadata": {},
   "outputs": [],
   "source": [
    "html =  \"\"\" \n",
    "   <html> \n",
    "     <head> \n",
    "        <title> web test  </title> \n",
    "     </head>\n",
    "     <body>  \n",
    "        <p align=\"center\" id='text1' > text content1 </p> \n",
    "        <p align=\"left\" id='text2'> text content2 </p> \n",
    "        <p align=\"right\" id='text3' > text content3 </p> \n",
    "        <img src=\"koala.jpg\"/> \n",
    "     </body> \n",
    "   </html> \n",
    "    \"\"\""
   ]
  },
  {
   "cell_type": "code",
   "execution_count": 113,
   "id": "d2d24f16-2df4-4878-9e52-eb9ac67a8984",
   "metadata": {},
   "outputs": [
    {
     "name": "stderr",
     "output_type": "stream",
     "text": [
      "/home/studio-lab-user/.conda/envs/default/lib/python3.9/site-packages/bs4/__init__.py:177: UserWarning: No parser was explicitly specified, so I'm using the best available HTML parser for this system (\"lxml\"). This usually isn't a problem, but if you run this code on another system, or in a different virtual environment, it may use a different parser and behave differently.\n",
      "\n",
      "The code that caused this warning is on line 197 of the file /home/studio-lab-user/.conda/envs/default/lib/python3.9/runpy.py. To get rid of this warning, change code that looks like this:\n",
      "\n",
      " BeautifulSoup(YOUR_MARKUP})\n",
      "\n",
      "to this:\n",
      "\n",
      " BeautifulSoup(YOUR_MARKUP, \"lxml\")\n",
      "\n",
      "  warnings.warn(self.NO_PARSER_SPECIFIED_WARNING % dict(\n"
     ]
    }
   ],
   "source": [
    "from bs4 import BeautifulSoup\n",
    "\n",
    "soup = BeautifulSoup(html)"
   ]
  },
  {
   "cell_type": "code",
   "execution_count": 7,
   "id": "912a02c3-7983-4668-a776-216156265f16",
   "metadata": {},
   "outputs": [
    {
     "name": "stdout",
     "output_type": "stream",
     "text": [
      "<p align=\"center\"> text content1 </p>\n"
     ]
    }
   ],
   "source": [
    "# p 태그 찾기 (하나만) - find\n",
    "print(bs.find(\"p\"))\n",
    "#print(bs.find(\"p\"))"
   ]
  },
  {
   "cell_type": "code",
   "execution_count": 10,
   "id": "18e08cb3-ec6c-4149-81e5-2efa0e6e76aa",
   "metadata": {},
   "outputs": [
    {
     "name": "stdout",
     "output_type": "stream",
     "text": [
      "[<p align=\"center\"> text content1 </p>, <p align=\"left\"> text content2 </p>, <p align=\"right\"> text content3 </p>]\n"
     ]
    }
   ],
   "source": [
    "# p 태그 찾기 (모든) - find_all\n",
    "print(bs.find_all(\"p\")) "
   ]
  },
  {
   "cell_type": "code",
   "execution_count": 21,
   "id": "3bf13cd3-d493-4f9f-919e-5b3650eca777",
   "metadata": {},
   "outputs": [
    {
     "name": "stdout",
     "output_type": "stream",
     "text": [
      "<p align=\"center\" id=\"text1\"> text content1 </p>\n",
      "<p align=\"left\" id=\"text2\"> text content2 </p>\n"
     ]
    }
   ],
   "source": [
    "# p 태그 이면서  속성명=속성값인  태그  찾기 \n",
    "\n",
    "# print (bs.find(\"p\", align=\"center\") )\n",
    "# print (bs.find(\"p\", align=\"right\") )\n",
    "# print (bs.find(\"p\", align=\"left\") )\n",
    "\n",
    "\n",
    "#print(bs.find('p', {'id':'text1'}))\n",
    "print(bs.find('p', {'align':'center'}))\n",
    "print(bs.find('p', {'id':'text2'}))"
   ]
  },
  {
   "cell_type": "code",
   "execution_count": 23,
   "id": "d38c5e00-bea4-488a-8681-bdd165c4e13c",
   "metadata": {},
   "outputs": [],
   "source": [
    "html =  \"\"\" \n",
    "   <html> \n",
    "     <head> \n",
    "        <title> web test  </title> \n",
    "     </head>\n",
    "     <body>  \n",
    "        <p align=\"center\" > text content1 </p> \n",
    "        <p align=\"left\" > text content2 </p> \n",
    "        <p align=\"right\" > text content3 </p> \n",
    "        <img src=\"koala.jpg\" width=500  class=\"aaa\"  /> \n",
    "     </body> \n",
    "   </html> \n",
    "    \"\"\""
   ]
  },
  {
   "cell_type": "code",
   "execution_count": 24,
   "id": "bd7b93e8-3a67-4c45-a1ac-d8baa805683b",
   "metadata": {},
   "outputs": [
    {
     "name": "stdout",
     "output_type": "stream",
     "text": [
      "[<p align=\"center\"> text content1 </p>, <p align=\"left\"> text content2 </p>, <p align=\"right\"> text content3 </p>]\n"
     ]
    }
   ],
   "source": [
    "from bs4 import BeautifulSoup\n",
    "\n",
    "bs = BeautifulSoup(html, features=\"html.parser\")\n",
    "\n",
    "print (bs.find_all('p'))\n",
    "print (bs.find_all(align=\"center\"))\n",
    "print (bs.find_all(width=\"500\")) \n",
    "\n",
    "print (bs.find_all(class_=\"aaa\")) # 속성명 중 class 는 반드시 class_ 로 써야함."
   ]
  },
  {
   "cell_type": "code",
   "execution_count": 27,
   "id": "e13aff3a-8060-48af-a522-56ffa1e7eef8",
   "metadata": {},
   "outputs": [
    {
     "name": "stdout",
     "output_type": "stream",
     "text": [
      "<p align=\"center\"> text content1 </p>\n",
      "<p align=\"left\"> text content2 </p>\n",
      "<p align=\"right\"> text content3 </p>\n",
      "<img class=\"aaa\" src=\"koala.jpg\" width=\"500\"/>\n"
     ]
    }
   ],
   "source": [
    "bodytag = bs.find(\"body\")\n",
    "\n",
    "list1 = bodytag.find_all([\"p\",\"img\"])  # bodytag 자식 태그 중에서 찾기 \n",
    "for tag in list1 :\n",
    "    print(tag)"
   ]
  },
  {
   "cell_type": "code",
   "execution_count": 28,
   "id": "cc14f854-3421-4f94-9d8d-db5244863deb",
   "metadata": {},
   "outputs": [
    {
     "name": "stdout",
     "output_type": "stream",
     "text": [
      "\n",
      " text content1 \n",
      " text content2 \n",
      " text content3 \n",
      "\n",
      "\n",
      "text content1text content2text content3\n",
      "text content1-text content2-text content3\n"
     ]
    }
   ],
   "source": [
    "print(bodytag.get_text())\n",
    "print(bodytag.get_text(strip=True))\n",
    "print(bodytag.get_text('-', strip=True))"
   ]
  },
  {
   "cell_type": "code",
   "execution_count": 138,
   "id": "d098965d-900f-4f91-ad89-ff97a1f1b027",
   "metadata": {},
   "outputs": [
    {
     "name": "stdout",
     "output_type": "stream",
     "text": [
      "body\n",
      "b\n"
     ]
    }
   ],
   "source": [
    "import re  # 정규표현식 \n",
    "for tag in soup.find_all(re.compile(\"^b\")):\n",
    "    print(tag.name)"
   ]
  },
  {
   "cell_type": "code",
   "execution_count": 140,
   "id": "08224e38-da14-40f6-b36a-b6986dea9b4e",
   "metadata": {},
   "outputs": [
    {
     "name": "stdout",
     "output_type": "stream",
     "text": [
      "html\n",
      "title\n"
     ]
    }
   ],
   "source": [
    "for tag in soup.find_all(re.compile(\"t\")):\n",
    "    print(tag.name)"
   ]
  },
  {
   "cell_type": "code",
   "execution_count": 19,
   "id": "079f68f4-890b-4251-8b83-9227d222e941",
   "metadata": {},
   "outputs": [
    {
     "name": "stdout",
     "output_type": "stream",
     "text": [
      "Collecting requests\n",
      "  Downloading requests-2.26.0-py2.py3-none-any.whl (62 kB)\n",
      "\u001b[K     |████████████████████████████████| 62 kB 646 kB/s eta 0:00:01\n",
      "\u001b[?25hRequirement already satisfied: urllib3<1.27,>=1.21.1 in /home/studio-lab-user/.conda/envs/default/lib/python3.9/site-packages (from requests) (1.26.7)\n",
      "Requirement already satisfied: idna<4,>=2.5 in /home/studio-lab-user/.conda/envs/default/lib/python3.9/site-packages (from requests) (3.3)\n",
      "Requirement already satisfied: certifi>=2017.4.17 in /home/studio-lab-user/.conda/envs/default/lib/python3.9/site-packages (from requests) (2021.10.8)\n",
      "Collecting charset-normalizer~=2.0.0\n",
      "  Downloading charset_normalizer-2.0.9-py3-none-any.whl (39 kB)\n",
      "Installing collected packages: charset-normalizer, requests\n",
      "Successfully installed charset-normalizer-2.0.9 requests-2.26.0\n"
     ]
    }
   ],
   "source": [
    "pip install requests"
   ]
  },
  {
   "cell_type": "code",
   "execution_count": null,
   "id": "3b16afa5-057c-402d-a8b3-2bc28fcf298c",
   "metadata": {},
   "outputs": [
    {
     "name": "stdout",
     "output_type": "stream",
     "text": [
      "[<div class=\"group_news\"> <ul class=\"list_news\"> <li class=\"bx\" id=\"sp_nws1\"> <div class=\"news_wrap api_ani_send\"> <div class=\"news_area\"> <div class=\"news_info\"> <div class=\"api_save_group _keep_wrap\"> <a aria-pressed=\"false\" class=\"btn_save _keep_trigger\" data-url=\"https://www.chosun.com/economy/industry-company/2022/01/04/5RBS7KTE6JFWVNJX4BCKC4VKJ4/?utm_source=naver&amp;utm_medium=referral&amp;utm_campaign=naver-news\" href=\"#\" onclick=\"tCR('a=nws*h.kep&amp;r=1&amp;i=880000ED_000000000000000003663976&amp;u=javascript'); return false;\" role=\"button\"><i class=\"spnew ico_save\">문서 저장하기</i></a> <div class=\"api_ly_save _keep_save_layer\"> <a class=\"spnew_af item item_save _keep_save\" data-cr-off=\"a=nws*h.kepoff&amp;r=1&amp;i=880000ED_000000000000000003663976&amp;u=javascript\" data-cr-on=\"a=nws*h.kepon&amp;r=1&amp;i=880000ED_000000000000000003663976&amp;u=javascript\" href=\"#\" role=\"button\">Keep에 저장</a> <a class=\"spnew_af item item_quick\" href=\"https://keep.naver.com/\" onclick=\"return goOtherCR(this,'a=nws*h.kephome&amp;r=1&amp;i=880000ED_000000000000000003663976&amp;u='+urlencode(this.href));\" target=\"_blank\">Keep 바로가기</a> </div></div><div class=\"info_group\"> <a class=\"info press\" href=\"http://www.chosun.com/\" onclick=\"return goOtherCR(this, 'a=nws*h.prof&amp;r=1&amp;i=880000ED_000000000000000003663976&amp;g=023.0003663976&amp;u='+urlencode(this.href));\" target=\"_blank\"><span class=\"thumb_box\"><img alt=\"\" class=\"thumb\" height=\"20\" onerror=\"this.src='data:image/gif;base64,R0lGODlhAQABAIAAAAAAAP///yH5BAEAAAAALAAAAAABAAEAAAIBRAA7';this.className='thumb bg_default_press'\" src=\"https://search.pstatic.net/common/?src=https%3A%2F%2Fmimgnews.pstatic.net%2Fimage%2Fupload%2Foffice_logo%2F023%2F2020%2F04%2F29%2Flogo_023_18_20200429140229.png&amp;type=f54_54&amp;expire=24&amp;refresh=true\" width=\"20\"/></span>조선일보<i class=\"spnew ico_pick\">언론사 선정</i></a><span class=\"info\">1일 전</span><a class=\"info\" href=\"https://news.naver.com/main/read.naver?mode=LSD&amp;mid=sec&amp;sid1=101&amp;oid=023&amp;aid=0003663976\" onclick=\"return goOtherCR(this, 'a=nws*h.nav&amp;r=1&amp;i=880000ED_000000000000000003663976&amp;u='+urlencode(this.href));\" target=\"_blank\">네이버뉴스</a> </div></div><a class=\"news_tit\" href=\"https://www.chosun.com/economy/industry-company/2022/01/04/5RBS7KTE6JFWVNJX4BCKC4VKJ4/?utm_source=naver&amp;utm_medium=referral&amp;utm_campaign=naver-news\" onclick=\"return goOtherCR(this, 'a=nws*h.tit&amp;r=1&amp;i=880000ED_000000000000000003663976&amp;g=023.0003663976&amp;u='+urlencode(this.href));\" target=\"_blank\" title=\"한 벌에 12만원…BTS도 놀란 ‘BTS 잠옷’ 가격\">한 벌에 12만원…<mark>BTS</mark>도 놀란 ‘<mark>BTS</mark> 잠옷’ 가격</a> <div class=\"news_dsc\"> <div class=\"dsc_wrap\"> <a class=\"api_txt_lines dsc_txt_wrap\" href=\"https://www.chosun.com/economy/industry-company/2022/01/04/5RBS7KTE6JFWVNJX4BCKC4VKJ4/?utm_source=naver&amp;utm_medium=referral&amp;utm_campaign=naver-news\" onclick=\"return goOtherCR(this, 'a=nws*h.body&amp;r=1&amp;i=880000ED_000000000000000003663976&amp;g=023.0003663976&amp;u='+urlencode(this.href));\" target=\"_blank\">하이브 소속 그룹 방탄소년단(<mark>BTS</mark>)의 멤버가 직접 기획에 참여한 잠옷에 대한 고가 논란이 일고 있다. 이를... 진의 기발한 기획으로 완성한 파자마와 베개를 소개한다”며 <mark>BTS</mark> 멤버 진(30)이 제작에 참여한 잠옷 두 벌과...</a> </div></div></div><a class=\"dsc_thumb \" href=\"https://www.chosun.com/economy/industry-company/2022/01/04/5RBS7KTE6JFWVNJX4BCKC4VKJ4/?utm_source=naver&amp;utm_medium=referral&amp;utm_campaign=naver-news\" onclick=\"return goOtherCR(this, 'a=nws*h.img&amp;r=1&amp;i=880000ED_000000000000000003663976&amp;g=023.0003663976&amp;u='+urlencode(this.href));\" target=\"_blank\"><img alt=\"한 벌에 12만원…BTS도\" class=\"thumb api_get\" height=\"90\" onerror=\"this.parentNode.style.display='none';\" src=\"https://search.pstatic.net/common/?src=https%3A%2F%2Fimgnews.pstatic.net%2Fimage%2Forigin%2F023%2F2022%2F01%2F04%2F3663976.jpg&amp;type=ff264_180&amp;expire=2&amp;refresh=true\" width=\"132\"/></a> </div><div class=\"news_cluster\"> <ul class=\"list_cluster\"> <li class=\"sub_bx\"> <span class=\"sub_wrap\"> <span class=\"sub_area\"> <cite class=\"sub_txt press\" title=\"연합뉴스\">연합뉴스</cite><span class=\"sub_txt\">23시간 전</span><a class=\"sub_txt\" href=\"https://news.naver.com/main/read.naver?mode=LSD&amp;mid=sec&amp;sid1=106&amp;oid=001&amp;aid=0012896474\" onclick=\"return goOtherCR(this, 'a=nws*c.nav&amp;r=2&amp;i=880000D8_000000000000000012896474&amp;u='+urlencode(this.href));\" target=\"_blank\">네이버뉴스</a> </span><a class=\"elss sub_tit\" href=\"http://yna.kr/AKR20220104076900534?did=1195m\" onclick=\"return goOtherCR(this, 'a=nws*c.tit&amp;r=2&amp;i=880000D8_000000000000000012896474&amp;g=001.0012896474&amp;u='+urlencode(this.href));\" target=\"_blank\" title=\"[영상] 입방아 오른 'BTS 잠옷'…멤버조차 가격에 '깜놀'\">[영상] 입방아 오른 '<mark>BTS</mark> 잠옷'…멤버조차 가격에 '깜놀'</a> </span></li> <li class=\"sub_bx\"> <span class=\"sub_wrap\"> <span class=\"sub_area\"> <cite class=\"sub_txt press\" title=\"한겨레\">한겨레</cite><span class=\"sub_txt\">1일 전</span><a class=\"sub_txt\" href=\"https://news.naver.com/main/read.naver?mode=LSD&amp;mid=sec&amp;sid1=103&amp;oid=028&amp;aid=0002574123\" onclick=\"return goOtherCR(this, 'a=nws*c.nav&amp;r=3&amp;i=88000103_000000000000000002574123&amp;u='+urlencode(this.href));\" target=\"_blank\">네이버뉴스</a> </span><a class=\"elss sub_tit\" href=\"https://www.hani.co.kr/arti/culture/culture_general/1025870.html\" onclick=\"return goOtherCR(this, 'a=nws*c.tit&amp;r=3&amp;i=88000103_000000000000000002574123&amp;g=028.0002574123&amp;u='+urlencode(this.href));\" target=\"_blank\" title=\"잠옷 12만원…직접 기획한 BTS 진도 ‘당황’\">잠옷 12만원…직접 기획한 <mark>BTS</mark> 진도 ‘당황’</a> </span></li> <li class=\"sub_bx\"> <span class=\"sub_wrap\"> <span class=\"sub_area\"> <cite class=\"sub_txt press\" title=\"TV조선\">TV조선<i class=\"spnew ico_pick\">언론사 선정</i></cite><span class=\"sub_txt\">1일 전</span><a class=\"sub_txt\" href=\"https://news.naver.com/main/read.naver?mode=LSD&amp;mid=sec&amp;sid1=103&amp;oid=448&amp;aid=0000348108\" onclick=\"return goOtherCR(this, 'a=nws*i.nav&amp;r=4&amp;i=88156f73_000000000000000000348108&amp;u='+urlencode(this.href));\" target=\"_blank\">네이버뉴스</a> </span><a class=\"elss sub_tit\" href=\"http://news.tvchosun.com/site/data/html_dir/2022/01/04/2022010490039.html\" onclick=\"return goOtherCR(this, 'a=nws*i.tit&amp;r=4&amp;i=88156f73_000000000000000000348108&amp;g=448.0000348108&amp;u='+urlencode(this.href));\" target=\"_blank\" title=\"BTS 잠옷 '11만원' 논란…제작 기획 멤버도 '당황'\"><mark>BTS</mark> 잠옷 '11만원' 논란…제작 기획 멤버도 '당황'</a> </span></li> <li class=\"sub_bx\"> <span class=\"sub_wrap\"> <span class=\"sub_area\"> <cite class=\"sub_txt press\" title=\"MBN\">MBN<i class=\"spnew ico_pick\">언론사 선정</i></cite><span class=\"sub_txt\">1일 전</span><a class=\"sub_txt\" href=\"https://news.naver.com/main/read.naver?mode=LSD&amp;mid=sec&amp;sid1=103&amp;oid=057&amp;aid=0001633030\" onclick=\"return goOtherCR(this, 'a=nws*i.nav&amp;r=5&amp;i=880000BF_000000000000000001633030&amp;u='+urlencode(this.href));\" target=\"_blank\">네이버뉴스</a> </span><a class=\"elss sub_tit\" href=\"http://mbn.mk.co.kr/pages/news/newsView.php?category=mbn00013&amp;news_seq_no=4673212\" onclick=\"return goOtherCR(this, 'a=nws*i.tit&amp;r=5&amp;i=880000BF_000000000000000001633030&amp;g=057.0001633030&amp;u='+urlencode(this.href));\" target=\"_blank\" title=\"'BTS 잠옷' 한 벌에 12만 원? 고가 논란에 BTS 진 &quot;나도 놀랐네&quot;\">'<mark>BTS</mark> 잠옷' 한 벌에 12만 원? 고가 논란에 <mark>BTS</mark> 진 \"나도 놀랐네\"</a> </span></li> </ul></div><a class=\"news_more\" href=\"?where=news&amp;sm=tab_tnw&amp;query=bts&amp;sort=0&amp;photo=0&amp;field=0&amp;pd=0&amp;ds=&amp;de=&amp;mynews=0&amp;office_type=0&amp;office_section_code=0&amp;news_office_checked=&amp;related=1&amp;docid=0230003663976&amp;nso=so:r,p:all,a:all\" onclick=\"return goOtherCR(this, 'a=nws*r.more&amp;u='+urlencode(urlexpand(this.href)));\">관련뉴스 9건 전체보기<i class=\"spnew ico_arrow\"></i></a> </li> <li class=\"bx\" id=\"sp_nws6\"> <div class=\"news_wrap api_ani_send\"> <div class=\"news_area\"> <div class=\"news_info\"> <div class=\"api_save_group _keep_wrap\"> <a aria-pressed=\"false\" class=\"btn_save _keep_trigger\" data-url=\"http://www.fnnews.com/news/202201040847465379\" href=\"#\" onclick=\"tCR('a=nws*h.kep&amp;r=6&amp;i=880000FF_000000000000000004766273&amp;u=javascript'); return false;\" role=\"button\"><i class=\"spnew ico_save\">문서 저장하기</i></a> <div class=\"api_ly_save _keep_save_layer\"> <a class=\"spnew_af item item_save _keep_save\" data-cr-off=\"a=nws*h.kepoff&amp;r=6&amp;i=880000FF_000000000000000004766273&amp;u=javascript\" data-cr-on=\"a=nws*h.kepon&amp;r=6&amp;i=880000FF_000000000000000004766273&amp;u=javascript\" href=\"#\" role=\"button\">Keep에 저장</a> <a class=\"spnew_af item item_quick\" href=\"https://keep.naver.com/\" onclick=\"return goOtherCR(this,'a=nws*h.kephome&amp;r=6&amp;i=880000FF_000000000000000004766273&amp;u='+urlencode(this.href));\" target=\"_blank\">Keep 바로가기</a> </div></div><div class=\"info_group\"> <a class=\"info press\" href=\"http://www.fnnews.com/\" onclick=\"return goOtherCR(this, 'a=nws*h.prof&amp;r=6&amp;i=880000FF_000000000000000004766273&amp;g=014.0004766273&amp;u='+urlencode(this.href));\" target=\"_blank\"><span class=\"thumb_box\"><img alt=\"\" class=\"thumb\" height=\"20\" onerror=\"this.src='data:image/gif;base64,R0lGODlhAQABAIAAAAAAAP///yH5BAEAAAAALAAAAAABAAEAAAIBRAA7';this.className='thumb bg_default_press'\" src=\"https://search.pstatic.net/common/?src=https%3A%2F%2Fmimgnews.pstatic.net%2Fimage%2Fupload%2Foffice_logo%2F014%2F2020%2F12%2F30%2Flogo_014_18_20201230135042.png&amp;type=f54_54&amp;expire=24&amp;refresh=true\" width=\"20\"/></span>파이낸셜뉴스<i class=\"spnew ico_pick\">언론사 선정</i></a><span class=\"info\">1일 전</span><a class=\"info\" href=\"https://news.naver.com/main/read.naver?mode=LSD&amp;mid=sec&amp;sid1=103&amp;oid=014&amp;aid=0004766273\" onclick=\"return goOtherCR(this, 'a=nws*h.nav&amp;r=6&amp;i=880000FF_000000000000000004766273&amp;u='+urlencode(this.href));\" target=\"_blank\">네이버뉴스</a> </div></div><a class=\"news_tit\" href=\"http://www.fnnews.com/news/202201040847465379\" onclick=\"return goOtherCR(this, 'a=nws*h.tit&amp;r=6&amp;i=880000FF_000000000000000004766273&amp;g=014.0004766273&amp;u='+urlencode(this.href));\" target=\"_blank\" title=\"네이버웹툰, BTS 슈퍼캐스팅 옥외광고 코엑스 케이팝 스퀘어에 공개\">네이버웹툰, <mark>BTS</mark> 슈퍼캐스팅 옥외광고 코엑스 케이팝 스퀘어에 공개</a> <div class=\"news_dsc\"> <div class=\"dsc_wrap\"> <a class=\"api_txt_lines dsc_txt_wrap\" href=\"http://www.fnnews.com/news/202201040847465379\" onclick=\"return goOtherCR(this, 'a=nws*h.body&amp;r=6&amp;i=880000FF_000000000000000004766273&amp;g=014.0004766273&amp;u='+urlencode(this.href));\" target=\"_blank\">네이버웹툰이 슈퍼캐스팅 캠페인으로 방탄소년단(<mark>BTS</mark>) 멤버들이 등장하는 초대형 디지털 옥외광고를 서울 삼성역 인근 코엑스 케이팝 스퀘어 전광판에 선보였다고 4일 밝혔다. 이번 디지털 옥외 광고는 지난달 25일부터...</a> </div></div></div><a class=\"dsc_thumb \" href=\"http://www.fnnews.com/news/202201040847465379\" onclick=\"return goOtherCR(this, 'a=nws*h.img&amp;r=6&amp;i=880000FF_000000000000000004766273&amp;g=014.0004766273&amp;u='+urlencode(this.href));\" target=\"_blank\"><img alt=\"네이버웹툰, BTS 슈퍼\" class=\"thumb api_get\" height=\"90\" onerror=\"this.parentNode.style.display='none';\" src=\"https://search.pstatic.net/common/?src=https%3A%2F%2Fimgnews.pstatic.net%2Fimage%2Forigin%2F014%2F2022%2F01%2F04%2F4766273.jpg&amp;type=ff264_180&amp;expire=2&amp;refresh=true\" width=\"132\"/></a> </div><div class=\"news_cluster\"> <ul class=\"list_cluster\"> <li class=\"sub_bx\"> <span class=\"sub_wrap\"> <span class=\"sub_area\"> <cite class=\"sub_txt press\" title=\"뉴시스\">뉴시스<i class=\"spnew ico_pick\">언론사 선정</i></cite><span class=\"sub_txt\">20시간 전</span><a class=\"sub_txt\" href=\"https://news.naver.com/main/read.naver?mode=LSD&amp;mid=sec&amp;sid1=103&amp;oid=003&amp;aid=0010926207\" onclick=\"return goOtherCR(this, 'a=nws*i.nav&amp;r=7&amp;i=88000127_000000000000000010926207&amp;u='+urlencode(this.href));\" target=\"_blank\">네이버뉴스</a> </span><a class=\"elss sub_tit\" href=\"http://www.newsis.com/view/?id=NISX20220104_0001712511&amp;cID=10701&amp;pID=10700\" onclick=\"return goOtherCR(this, 'a=nws*i.tit&amp;r=7&amp;i=88000127_000000000000000010926207&amp;g=003.0010926207&amp;u='+urlencode(this.href));\" target=\"_blank\" title=\"BTS, 코엑스 대형 전광판 등장…네이버웹툰 캠페인 광고\"><mark>BTS</mark>, 코엑스 대형 전광판 등장…네이버웹툰 캠페인 광고</a> </span></li> <li class=\"sub_bx\"> <span class=\"sub_wrap\"> <span class=\"sub_area\"> <cite class=\"sub_txt press\" title=\"ZDNet Korea\">ZDNet Korea<i class=\"spnew ico_pick\">언론사 선정</i></cite><span class=\"sub_txt\">1일 전</span><a class=\"sub_txt\" href=\"https://news.naver.com/main/read.naver?mode=LSD&amp;mid=sec&amp;sid1=105&amp;oid=092&amp;aid=0002243950\" onclick=\"return goOtherCR(this, 'a=nws*i.nav&amp;r=8&amp;i=8800011E_000000000000000002243950&amp;u='+urlencode(this.href));\" target=\"_blank\">네이버뉴스</a> </span><a class=\"elss sub_tit\" href=\"https://zdnet.co.kr/view/?no=20220104085342\" onclick=\"return goOtherCR(this, 'a=nws*i.tit&amp;r=8&amp;i=8800011E_000000000000000002243950&amp;g=092.0002243950&amp;u='+urlencode(this.href));\" target=\"_blank\" title='네이버웹툰 \"BTS 슈퍼캐스팅 광고, 코엑스 케이팝 스퀘어에 떴다”'>네이버웹툰 \"<mark>BTS</mark> 슈퍼캐스팅 광고, 코엑스 케이팝 스퀘어에 떴다”</a> </span></li> <li class=\"sub_bx\"> <span class=\"sub_wrap\"> <span class=\"sub_area\"> <cite class=\"sub_txt press\" title=\"머니S\">머니S</cite><span class=\"sub_txt\">23시간 전</span><a class=\"sub_txt\" href=\"https://news.naver.com/main/read.naver?mode=LSD&amp;mid=sec&amp;sid1=105&amp;oid=417&amp;aid=0000771642\" onclick=\"return goOtherCR(this, 'a=nws*c.nav&amp;r=9&amp;i=8812805E_000000000000000000771642&amp;u='+urlencode(this.href));\" target=\"_blank\">네이버뉴스</a> </span><a class=\"elss sub_tit\" href=\"http://moneys.mt.co.kr/news/mwView.php?no=2022010411178080537\" onclick=\"return goOtherCR(this, 'a=nws*c.tit&amp;r=9&amp;i=8812805E_000000000000000000771642&amp;g=417.0000771642&amp;u='+urlencode(this.href));\" target=\"_blank\" title=\"&quot;BTS가 서울 한복판에...&quot; 네이버웹툰, 디지털 옥외 광고 '첫선'\">\"<mark>BTS</mark>가 서울 한복판에...\" 네이버웹툰, 디지털 옥외 광고 '첫선'</a> </span></li> <li class=\"sub_bx\"> <span class=\"sub_wrap\"> <span class=\"sub_area\"> <cite class=\"sub_txt press\" title=\"뉴스1\">뉴스1</cite><span class=\"sub_txt\">1일 전</span><a class=\"sub_txt\" href=\"https://news.naver.com/main/read.naver?mode=LSD&amp;mid=sec&amp;sid1=105&amp;oid=421&amp;aid=0005823105\" onclick=\"return goOtherCR(this, 'a=nws*c.nav&amp;r=10&amp;i=08138263_000000000000000005823105&amp;u='+urlencode(this.href));\" target=\"_blank\">네이버뉴스</a> </span><a class=\"elss sub_tit\" href=\"https://www.news1.kr/articles/?4543508\" onclick=\"return goOtherCR(this, 'a=nws*c.tit&amp;r=10&amp;i=08138263_000000000000000005823105&amp;g=421.0005823105&amp;u='+urlencode(this.href));\" target=\"_blank\" title='\"BTS가 네이버웹툰 속으로 빨려 들어간다\"…코엑스 전광판 광고'>\"<mark>BTS</mark>가 네이버웹툰 속으로 빨려 들어간다\"…코엑스 전광판 광고</a> </span></li> </ul></div><a class=\"news_more\" href=\"?where=news&amp;sm=tab_tnw&amp;query=bts&amp;sort=0&amp;photo=0&amp;field=0&amp;pd=0&amp;ds=&amp;de=&amp;mynews=0&amp;office_type=0&amp;office_section_code=0&amp;news_office_checked=&amp;related=1&amp;docid=0140004766273&amp;nso=so:r,p:all,a:all\" onclick=\"return goOtherCR(this, 'a=nws*r.more&amp;u='+urlencode(urlexpand(this.href)));\">관련뉴스 9건 전체보기<i class=\"spnew ico_arrow\"></i></a> </li> <li class=\"bx\" id=\"sp_nws11\"> <div class=\"news_wrap api_ani_send\"> <div class=\"news_area\"> <div class=\"news_info\"> <div class=\"api_save_group _keep_wrap\"> <a aria-pressed=\"false\" class=\"btn_save _keep_trigger\" data-url=\"https://www.seoul.co.kr/news/newsView.php?id=20220105500019&amp;wlog_tag3=naver\" href=\"#\" onclick=\"tCR('a=nws*h.kep&amp;r=11&amp;i=880000D1_000000000000000003242562&amp;u=javascript'); return false;\" role=\"button\"><i class=\"spnew ico_save\">문서 저장하기</i></a> <div class=\"api_ly_save _keep_save_layer\"> <a class=\"spnew_af item item_save _keep_save\" data-cr-off=\"a=nws*h.kepoff&amp;r=11&amp;i=880000D1_000000000000000003242562&amp;u=javascript\" data-cr-on=\"a=nws*h.kepon&amp;r=11&amp;i=880000D1_000000000000000003242562&amp;u=javascript\" href=\"#\" role=\"button\">Keep에 저장</a> <a class=\"spnew_af item item_quick\" href=\"https://keep.naver.com/\" onclick=\"return goOtherCR(this,'a=nws*h.kephome&amp;r=11&amp;i=880000D1_000000000000000003242562&amp;u='+urlencode(this.href));\" target=\"_blank\">Keep 바로가기</a> </div></div><div class=\"info_group\"> <a class=\"info press\" href=\"https://www.seoul.co.kr\" onclick=\"return goOtherCR(this, 'a=nws*h.prof&amp;r=11&amp;i=880000D1_000000000000000003242562&amp;g=081.0003242562&amp;u='+urlencode(this.href));\" target=\"_blank\"><span class=\"thumb_box\"><img alt=\"\" class=\"thumb\" height=\"20\" onerror=\"this.src='data:image/gif;base64,R0lGODlhAQABAIAAAAAAAP///yH5BAEAAAAALAAAAAABAAEAAAIBRAA7';this.className='thumb bg_default_press'\" src=\"https://search.pstatic.net/common/?src=https%3A%2F%2Fmimgnews.pstatic.net%2Fimage%2Fupload%2Foffice_logo%2F081%2F2017%2F01%2F05%2Flogo_081_18_20170105111205.png&amp;type=f54_54&amp;expire=24&amp;refresh=true\" width=\"20\"/></span>서울신문<i class=\"spnew ico_pick\">언론사 선정</i></a><span class=\"info\">1시간 전</span><a class=\"info\" href=\"https://news.naver.com/main/read.naver?mode=LSD&amp;mid=sec&amp;sid1=103&amp;oid=081&amp;aid=0003242562\" onclick=\"return goOtherCR(this, 'a=nws*h.nav&amp;r=11&amp;i=880000D1_000000000000000003242562&amp;u='+urlencode(this.href));\" target=\"_blank\">네이버뉴스</a> </div></div><a class=\"news_tit\" href=\"https://www.seoul.co.kr/news/newsView.php?id=20220105500019&amp;wlog_tag3=naver\" onclick=\"return goOtherCR(this, 'a=nws*h.tit&amp;r=11&amp;i=880000D1_000000000000000003242562&amp;g=081.0003242562&amp;u='+urlencode(this.href));\" target=\"_blank\" title=\"BTS 뷔가 부른 OST, 한국 첫 빌보드 ‘핫 100‘ 진입\"><mark>BTS</mark> 뷔가 부른 OST, 한국 첫 빌보드 ‘핫 100‘ 진입</a> <div class=\"news_dsc\"> <div class=\"dsc_wrap\"> <a class=\"api_txt_lines dsc_txt_wrap\" href=\"https://www.seoul.co.kr/news/newsView.php?id=20220105500019&amp;wlog_tag3=naver\" onclick=\"return goOtherCR(this, 'a=nws*h.body&amp;r=11&amp;i=880000D1_000000000000000003242562&amp;g=081.0003242562&amp;u='+urlencode(this.href));\" target=\"_blank\">그룹 방탄소년단의 뷔가 발표한 SBS 월화드라마 ‘그 해 우리는’에 삽입된 ‘크리스마스 트리’가 한국 드라마 OST 가운데 처음으로 빌보드 메인 싱글 차트인 ‘핫 100’ 진입에 성공했다. 5일(한국시간) 빌보드...</a> </div></div></div><a class=\"dsc_thumb \" href=\"https://www.seoul.co.kr/news/newsView.php?id=20220105500019&amp;wlog_tag3=naver\" onclick=\"return goOtherCR(this, 'a=nws*h.img&amp;r=11&amp;i=880000D1_000000000000000003242562&amp;g=081.0003242562&amp;u='+urlencode(this.href));\" target=\"_blank\"><img alt=\"BTS 뷔가 부른 OST, 한\" class=\"thumb api_get\" height=\"90\" onerror=\"this.parentNode.style.display='none';\" src=\"https://search.pstatic.net/common/?src=https%3A%2F%2Fimgnews.pstatic.net%2Fimage%2Forigin%2F081%2F2022%2F01%2F05%2F3242562.jpg&amp;type=ff264_180&amp;expire=2&amp;refresh=true\" width=\"132\"/></a> </div><div class=\"news_cluster\"> <ul class=\"list_cluster\"> <li class=\"sub_bx\"> <span class=\"sub_wrap\"> <span class=\"sub_area\"> <cite class=\"sub_txt press\" title=\"뉴스1\">뉴스1</cite><span class=\"sub_txt\">43분 전</span><a class=\"sub_txt\" href=\"https://news.naver.com/main/read.naver?mode=LSD&amp;mid=sec&amp;sid1=106&amp;oid=421&amp;aid=0005825629\" onclick=\"return goOtherCR(this, 'a=nws*c.nav&amp;r=12&amp;i=08138263_000000000000000005825629&amp;u='+urlencode(this.href));\" target=\"_blank\">네이버뉴스</a> </span><a class=\"elss sub_tit\" href=\"https://www.news1.kr/articles/?4544870\" onclick=\"return goOtherCR(this, 'a=nws*c.tit&amp;r=12&amp;i=08138263_000000000000000005825629&amp;g=421.0005825629&amp;u='+urlencode(this.href));\" target=\"_blank\" title=\"BTS 파워…뷔 솔로 OST '크리스마스 트리', 美 빌보드 '핫 100' 79위\"><mark>BTS</mark> 파워…뷔 솔로 OST '크리스마스 트리', 美 빌보드 '핫 100' 79위</a> </span></li> <li class=\"sub_bx\"> <span class=\"sub_wrap\"> <span class=\"sub_area\"> <cite class=\"sub_txt press\" title=\"쿠키뉴스\">쿠키뉴스</cite><span class=\"sub_txt\">1시간 전</span> </span><a class=\"elss sub_tit\" href=\"http://www.kukinews.com/newsView/kuk202201050036\" onclick=\"return goOtherCR(this, 'a=nws*d.tit&amp;r=13&amp;i=88155e54_000000000000000000684009&amp;g=5380.0000684009&amp;u='+urlencode(this.href));\" target=\"_blank\" title=\"BTS 뷔 솔로곡 빌보드 핫100 진입\"><mark>BTS</mark> 뷔 솔로곡 빌보드 핫100 진입</a> </span></li> <li class=\"sub_bx\"> <span class=\"sub_wrap\"> <span class=\"sub_area\"> <cite class=\"sub_txt press\" title=\"연합뉴스\">연합뉴스</cite><span class=\"sub_txt\">2시간 전</span><a class=\"sub_txt\" href=\"https://news.naver.com/main/read.naver?mode=LSD&amp;mid=sec&amp;sid1=106&amp;oid=001&amp;aid=0012898001\" onclick=\"return goOtherCR(this, 'a=nws*c.nav&amp;r=14&amp;i=880000D8_000000000000000012898001&amp;u='+urlencode(this.href));\" target=\"_blank\">네이버뉴스</a> </span><a class=\"elss sub_tit\" href=\"http://yna.kr/AKR20220105025200005?did=1195m\" onclick=\"return goOtherCR(this, 'a=nws*c.tit&amp;r=14&amp;i=880000D8_000000000000000012898001&amp;g=001.0012898001&amp;u='+urlencode(this.href));\" target=\"_blank\" title=\"BTS 뷔 '크리스마스 트리' 빌보드 '핫 100' 진입…한국 OST 최초\"><mark>BTS</mark> 뷔 '크리스마스 트리' 빌보드 '핫 100' 진입…한국 OST 최초</a> </span></li> <li class=\"sub_bx\"> <span class=\"sub_wrap\"> <span class=\"sub_area\"> <cite class=\"sub_txt press\" title=\"연합뉴스\">연합뉴스</cite><span class=\"sub_txt\">43분 전</span><a class=\"sub_txt\" href=\"https://news.naver.com/main/read.naver?mode=LSD&amp;mid=sec&amp;sid1=102&amp;oid=001&amp;aid=0012898375\" onclick=\"return goOtherCR(this, 'a=nws*c.nav&amp;r=15&amp;i=880000D8_000000000000000012898375&amp;u='+urlencode(this.href));\" target=\"_blank\">네이버뉴스</a> </span><a class=\"elss sub_tit\" href=\"http://yna.kr/AKR20220105059200534?did=1195m\" onclick=\"return goOtherCR(this, 'a=nws*c.tit&amp;r=15&amp;i=880000D8_000000000000000012898375&amp;g=001.0012898375&amp;u='+urlencode(this.href));\" target=\"_blank\" title=\"[영상] BTS 뷔 한국 OST 최초 빌보드 '핫 100' 진입…'크리스마스 트리'\">[영상] <mark>BTS</mark> 뷔 한국 OST 최초 빌보드 '핫 100' 진입…'크리스마스 트리'</a> </span></li> </ul></div><a class=\"news_more\" href=\"?where=news&amp;sm=tab_tnw&amp;query=bts&amp;sort=0&amp;photo=0&amp;field=0&amp;pd=0&amp;ds=&amp;de=&amp;mynews=0&amp;office_type=0&amp;office_section_code=0&amp;news_office_checked=&amp;related=1&amp;docid=0810003242562&amp;nso=so:r,p:all,a:all\" onclick=\"return goOtherCR(this, 'a=nws*r.more&amp;u='+urlencode(urlexpand(this.href)));\">관련뉴스 7건 전체보기<i class=\"spnew ico_arrow\"></i></a> </li> <li class=\"bx\" id=\"sp_nws16\"> <div class=\"news_wrap api_ani_send\"> <div class=\"news_area\"> <div class=\"news_info\"> <div class=\"api_save_group _keep_wrap\"> <a aria-pressed=\"false\" class=\"btn_save _keep_trigger\" data-url=\"http://yna.kr/AKR20220105005100075?did=1195m\" href=\"#\" onclick=\"tCR('a=nws*a.kep&amp;r=16&amp;i=880000D8_000000000000000012897843&amp;u=javascript'); return false;\" role=\"button\"><i class=\"spnew ico_save\">문서 저장하기</i></a> <div class=\"api_ly_save _keep_save_layer\"> <a class=\"spnew_af item item_save _keep_save\" data-cr-off=\"a=nws*a.kepoff&amp;r=16&amp;i=880000D8_000000000000000012897843&amp;u=javascript\" data-cr-on=\"a=nws*a.kepon&amp;r=16&amp;i=880000D8_000000000000000012897843&amp;u=javascript\" href=\"#\" role=\"button\">Keep에 저장</a> <a class=\"spnew_af item item_quick\" href=\"https://keep.naver.com/\" onclick=\"return goOtherCR(this,'a=nws*a.kephome&amp;r=16&amp;i=880000D8_000000000000000012897843&amp;u='+urlencode(this.href));\" target=\"_blank\">Keep 바로가기</a> </div></div><div class=\"info_group\"> <a class=\"info press\" href=\"https://www.yna.co.kr/\" onclick=\"return goOtherCR(this, 'a=nws*a.prof&amp;r=16&amp;i=880000D8_000000000000000012897843&amp;g=001.0012897843&amp;u='+urlencode(this.href));\" target=\"_blank\"><span class=\"thumb_box\"><img alt=\"\" class=\"thumb\" height=\"20\" onerror=\"this.src='data:image/gif;base64,R0lGODlhAQABAIAAAAAAAP///yH5BAEAAAAALAAAAAABAAEAAAIBRAA7';this.className='thumb bg_default_press'\" src=\"https://search.pstatic.net/common/?src=https%3A%2F%2Fmimgnews.pstatic.net%2Fimage%2Fupload%2Foffice_logo%2F001%2F2017%2F06%2F29%2Flogo_001_18_20170629160329.png&amp;type=f54_54&amp;expire=24&amp;refresh=true\" width=\"20\"/></span>연합뉴스</a><span class=\"info\">6시간 전</span><a class=\"info\" href=\"https://news.naver.com/main/read.naver?mode=LSD&amp;mid=sec&amp;sid1=104&amp;oid=001&amp;aid=0012897843\" onclick=\"return goOtherCR(this, 'a=nws*a.nav&amp;r=16&amp;i=880000D8_000000000000000012897843&amp;u='+urlencode(this.href));\" target=\"_blank\">네이버뉴스</a> </div></div><a class=\"news_tit\" href=\"http://yna.kr/AKR20220105005100075?did=1195m\" onclick=\"return goOtherCR(this, 'a=nws*a.tit&amp;r=16&amp;i=880000D8_000000000000000012897843&amp;g=001.0012897843&amp;u='+urlencode(this.href));\" target=\"_blank\" title=\"BTS 후보 오른 그래미 시상식, 오미크론 여파 연기 가능성\"><mark>BTS</mark> 후보 오른 그래미 시상식, 오미크론 여파 연기 가능성</a> <div class=\"news_dsc\"> <div class=\"dsc_wrap\"> <a class=\"api_txt_lines dsc_txt_wrap\" href=\"http://yna.kr/AKR20220105005100075?did=1195m\" onclick=\"return goOtherCR(this, 'a=nws*a.body&amp;r=16&amp;i=880000D8_000000000000000012897843&amp;g=001.0012897843&amp;u='+urlencode(this.href));\" target=\"_blank\">정윤섭 특파원 = 그룹 방탄소년단(<mark>BTS</mark>)이 후보로 오른 미국 그래미 시상식이 신종 코로나바이러스 감염증(코로나19) 오미크론 변이 확산 여파로 연기될 가능성이 있는 것으로 알려졌다. 미국 음악 매체 빌보드와...</a> </div></div></div><a class=\"dsc_thumb \" href=\"http://yna.kr/AKR20220105005100075?did=1195m\" onclick=\"return goOtherCR(this, 'a=nws*a.img&amp;r=16&amp;i=880000D8_000000000000000012897843&amp;g=001.0012897843&amp;u='+urlencode(this.href));\" target=\"_blank\"><img alt=\"BTS 후보 오른 그래미\" class=\"thumb api_get\" height=\"90\" onerror=\"this.parentNode.style.display='none';\" src=\"https://search.pstatic.net/common/?src=https%3A%2F%2Fimgnews.pstatic.net%2Fimage%2Forigin%2F001%2F2022%2F01%2F05%2F12897843.jpg&amp;type=ff264_180&amp;expire=2&amp;refresh=true\" width=\"132\"/></a> </div><div class=\"news_cluster\"> <ul class=\"list_cluster\"> <li class=\"sub_bx\"> <span class=\"sub_wrap\"> <span class=\"sub_area\"> <cite class=\"sub_txt press\" title=\"한국경제\">한국경제</cite><span class=\"sub_txt\">1시간 전</span><a class=\"sub_txt\" href=\"https://news.naver.com/main/read.naver?mode=LSD&amp;mid=sec&amp;sid1=103&amp;oid=015&amp;aid=0004649183\" onclick=\"return goOtherCR(this, 'a=nws*c.nav&amp;r=17&amp;i=88000107_000000000000000004649183&amp;u='+urlencode(this.href));\" target=\"_blank\">네이버뉴스</a> </span><a class=\"elss sub_tit\" href=\"https://www.hankyung.com/life/article/2022010564377\" onclick=\"return goOtherCR(this, 'a=nws*c.tit&amp;r=17&amp;i=88000107_000000000000000004649183&amp;g=015.0004649183&amp;u='+urlencode(this.href));\" target=\"_blank\" title=\"'BTS 후보 오른' 그래미 어워즈, 오미크론 확산에 연기 고려\">'<mark>BTS</mark> 후보 오른' 그래미 어워즈, 오미크론 확산에 연기 고려</a> </span></li> <li class=\"sub_bx\"> <span class=\"sub_wrap\"> <span class=\"sub_area\"> <cite class=\"sub_txt press\" title=\"매일경제\">매일경제</cite><span class=\"sub_txt\">1시간 전</span><a class=\"sub_txt\" href=\"https://news.naver.com/main/read.naver?mode=LSD&amp;mid=sec&amp;sid1=104&amp;oid=009&amp;aid=0004904439\" onclick=\"return goOtherCR(this, 'a=nws*c.nav&amp;r=18&amp;i=880000BC_000000000000000004904439&amp;u='+urlencode(this.href));\" target=\"_blank\">네이버뉴스</a> </span><a class=\"elss sub_tit\" href=\"http://news.mk.co.kr/newsRead.php?no=11135&amp;year=2022\" onclick=\"return goOtherCR(this, 'a=nws*c.tit&amp;r=18&amp;i=880000BC_000000000000000004904439&amp;g=009.0004904439&amp;u='+urlencode(this.href));\" target=\"_blank\" title=\"BTS 후보 오른 그래미 시상식, 오미크론 확산에 연기 가능성\"><mark>BTS</mark> 후보 오른 그래미 시상식, 오미크론 확산에 연기 가능성</a> </span></li> <li class=\"sub_bx\"> <span class=\"sub_wrap\"> <span class=\"sub_area\"> <cite class=\"sub_txt press\" title=\"서울신문\">서울신문<i class=\"spnew ico_pick\">언론사 선정</i></cite><span class=\"sub_txt\">3시간 전</span><a class=\"sub_txt\" href=\"https://news.naver.com/main/read.naver?mode=LSD&amp;mid=sec&amp;sid1=104&amp;oid=081&amp;aid=0003242551\" onclick=\"return goOtherCR(this, 'a=nws*i.nav&amp;r=19&amp;i=880000D1_000000000000000003242551&amp;u='+urlencode(this.href));\" target=\"_blank\">네이버뉴스</a> </span><a class=\"elss sub_tit\" href=\"https://www.seoul.co.kr/news/newsView.php?id=20220105500007&amp;wlog_tag3=naver\" onclick=\"return goOtherCR(this, 'a=nws*i.tit&amp;r=19&amp;i=880000D1_000000000000000003242551&amp;g=081.0003242551&amp;u='+urlencode(this.href));\" target=\"_blank\" title=\"BTS 후보 오른 그래미 시상식 미뤄지나…오미크론 확산에 연기 고려\"><mark>BTS</mark> 후보 오른 그래미 시상식 미뤄지나…오미크론 확산에 연기 고려</a> </span></li> <li class=\"sub_bx\"> <span class=\"sub_wrap\"> <span class=\"sub_area\"> <cite class=\"sub_txt press\" title=\"파이낸셜뉴스\">파이낸셜뉴스<i class=\"spnew ico_pick\">언론사 선정</i></cite><span class=\"sub_txt\">3시간 전</span><a class=\"sub_txt\" href=\"https://news.naver.com/main/read.naver?mode=LSD&amp;mid=sec&amp;sid1=104&amp;oid=014&amp;aid=0004766904\" onclick=\"return goOtherCR(this, 'a=nws*i.nav&amp;r=20&amp;i=880000FF_000000000000000004766904&amp;u='+urlencode(this.href));\" target=\"_blank\">네이버뉴스</a> </span><a class=\"elss sub_tit\" href=\"http://www.fnnews.com/news/202201050657270502\" onclick=\"return goOtherCR(this, 'a=nws*i.tit&amp;r=20&amp;i=880000FF_000000000000000004766904&amp;g=014.0004766904&amp;u='+urlencode(this.href));\" target=\"_blank\" title=\"'BTS 후보 오른' 그래미 시상식 코로나19로 올해도 연기되나\">'<mark>BTS</mark> 후보 오른' 그래미 시상식 코로나19로 올해도 연기되나</a> </span></li> </ul></div><a class=\"news_more\" href=\"?where=news&amp;sm=tab_tnw&amp;query=bts&amp;sort=0&amp;photo=0&amp;field=0&amp;pd=0&amp;ds=&amp;de=&amp;mynews=0&amp;office_type=0&amp;office_section_code=0&amp;news_office_checked=&amp;related=1&amp;docid=0010012897843&amp;nso=so:r,p:all,a:all\" onclick=\"return goOtherCR(this, 'a=nws*r.more&amp;u='+urlencode(urlexpand(this.href)));\">관련뉴스 12건 전체보기<i class=\"spnew ico_arrow\"></i></a> </li> <li class=\"bx\" id=\"sp_nws21\"> <div class=\"news_wrap api_ani_send\"> <div class=\"news_area\"> <div class=\"news_info\"> <div class=\"api_save_group _keep_wrap\"> <a aria-pressed=\"false\" class=\"btn_save _keep_trigger\" data-url=\"https://www.news1.kr/articles/?4543183\" href=\"#\" onclick=\"tCR('a=nws*a.kep&amp;r=21&amp;i=08138263_000000000000000005825154&amp;u=javascript'); return false;\" role=\"button\"><i class=\"spnew ico_save\">문서 저장하기</i></a> <div class=\"api_ly_save _keep_save_layer\"> <a class=\"spnew_af item item_save _keep_save\" data-cr-off=\"a=nws*a.kepoff&amp;r=21&amp;i=08138263_000000000000000005825154&amp;u=javascript\" data-cr-on=\"a=nws*a.kepon&amp;r=21&amp;i=08138263_000000000000000005825154&amp;u=javascript\" href=\"#\" role=\"button\">Keep에 저장</a> <a class=\"spnew_af item item_quick\" href=\"https://keep.naver.com/\" onclick=\"return goOtherCR(this,'a=nws*a.kephome&amp;r=21&amp;i=08138263_000000000000000005825154&amp;u='+urlencode(this.href));\" target=\"_blank\">Keep 바로가기</a> </div></div><div class=\"info_group\"> <a class=\"info press\" href=\"http://news1.kr/\" onclick=\"return goOtherCR(this, 'a=nws*a.prof&amp;r=21&amp;i=08138263_000000000000000005825154&amp;g=421.0005825154&amp;u='+urlencode(this.href));\" target=\"_blank\"><span class=\"thumb_box\"><img alt=\"\" class=\"thumb\" height=\"20\" onerror=\"this.src='data:image/gif;base64,R0lGODlhAQABAIAAAAAAAP///yH5BAEAAAAALAAAAAABAAEAAAIBRAA7';this.className='thumb bg_default_press'\" src=\"https://search.pstatic.net/common/?src=https%3A%2F%2Fmimgnews.pstatic.net%2Fimage%2Fupload%2Foffice_logo%2F421%2F2017%2F01%2F05%2Flogo_421_18_20170105111205.png&amp;type=f54_54&amp;expire=24&amp;refresh=true\" width=\"20\"/></span>뉴스1</a><span class=\"info\">4시간 전</span><a class=\"info\" href=\"https://news.naver.com/main/read.naver?mode=LSD&amp;mid=sec&amp;sid1=101&amp;oid=421&amp;aid=0005825154\" onclick=\"return goOtherCR(this, 'a=nws*a.nav&amp;r=21&amp;i=08138263_000000000000000005825154&amp;u='+urlencode(this.href));\" target=\"_blank\">네이버뉴스</a> </div></div><a class=\"news_tit\" href=\"https://www.news1.kr/articles/?4543183\" onclick=\"return goOtherCR(this, 'a=nws*a.tit&amp;r=21&amp;i=08138263_000000000000000005825154&amp;g=421.0005825154&amp;u='+urlencode(this.href));\" target=\"_blank\" title=\"&quot;BTS가 베개 팔아요&quot;…'팬더스트리' 공략 나선 미디어커머스 업계\">\"<mark>BTS</mark>가 베개 팔아요\"…'팬더스트리' 공략 나선 미디어커머스 업계</a> <div class=\"news_dsc\"> <div class=\"dsc_wrap\"> <a class=\"api_txt_lines dsc_txt_wrap\" href=\"https://www.news1.kr/articles/?4543183\" onclick=\"return goOtherCR(this, 'a=nws*a.body&amp;r=21&amp;i=08138263_000000000000000005825154&amp;g=421.0005825154&amp;u='+urlencode(this.href));\" target=\"_blank\">미국 빌보드, 일본 오리콘 차트 1위를 섭렵하며 세계 팬들의 사랑을 받는 '<mark>BTS</mark>'가 미디어커머스 방송에 등장했다. 국내 방송에서도 쉽게 볼 수 없었던 <mark>BTS</mark> 멤버들의 모습에 팬들의 관심이 쏠렸다. 아이돌을 향한 소비자...</a> </div></div></div><a class=\"dsc_thumb \" href=\"https://www.news1.kr/articles/?4543183\" onclick=\"return goOtherCR(this, 'a=nws*a.img&amp;r=21&amp;i=08138263_000000000000000005825154&amp;g=421.0005825154&amp;u='+urlencode(this.href));\" target=\"_blank\"><img alt='\"BTS가 베개 팔아요\"…' class=\"thumb api_get\" height=\"90\" onerror=\"this.parentNode.style.display='none';\" src=\"https://search.pstatic.net/common/?src=https%3A%2F%2Fimgnews.pstatic.net%2Fimage%2Forigin%2F421%2F2022%2F01%2F05%2F5825154.jpg&amp;type=ff264_180&amp;expire=2&amp;refresh=true\" width=\"132\"/></a> </div><div class=\"news_cluster\"> <ul class=\"list_cluster\"> <li class=\"sub_bx\"> <span class=\"sub_wrap\"> <span class=\"sub_area\"> <cite class=\"sub_txt press\" title=\"Queen\">Queen</cite><span class=\"sub_txt\">1시간 전</span> </span><a class=\"elss sub_tit\" href=\"http://www.queen.co.kr/news/articleView.html?idxno=371144\" onclick=\"return goOtherCR(this, 'a=nws*d.tit&amp;r=22&amp;i=88172bf3_000000000000000000085811&amp;g=5472.0000085811&amp;u='+urlencode(this.href));\" target=\"_blank\" title=\"BTS가 베개·잠옷 판매 나서 ... 팬더스트리 시장 7조9000억원 \"><mark>BTS</mark>가 베개·잠옷 판매 나서 ... 팬더스트리 시장 7조9000억원 </a> </span></li> </ul></div></li> <li class=\"bx\" id=\"sp_nws23\"> <div class=\"news_wrap api_ani_send\"> <div class=\"news_area\"> <div class=\"news_info\"> <div class=\"api_save_group _keep_wrap\"> <a aria-pressed=\"false\" class=\"btn_save _keep_trigger\" data-url=\"https://www.xportsnews.com/article/1520894\" href=\"#\" onclick=\"tCR('a=nws*e.kep&amp;r=23&amp;i=880005B6_000000000000000001393898&amp;u=javascript'); return false;\" role=\"button\"><i class=\"spnew ico_save\">문서 저장하기</i></a> <div class=\"api_ly_save _keep_save_layer\"> <a class=\"spnew_af item item_save _keep_save\" data-cr-off=\"a=nws*e.kepoff&amp;r=23&amp;i=880005B6_000000000000000001393898&amp;u=javascript\" data-cr-on=\"a=nws*e.kepon&amp;r=23&amp;i=880005B6_000000000000000001393898&amp;u=javascript\" href=\"#\" role=\"button\">Keep에 저장</a> <a class=\"spnew_af item item_quick\" href=\"https://keep.naver.com/\" onclick=\"return goOtherCR(this,'a=nws*e.kephome&amp;r=23&amp;i=880005B6_000000000000000001393898&amp;u='+urlencode(this.href));\" target=\"_blank\">Keep 바로가기</a> </div></div><div class=\"info_group\"> <a class=\"info press\" href=\"http://www.xportsnews.com\" onclick=\"return goOtherCR(this, 'a=nws*e.prof&amp;r=23&amp;i=880005B6_000000000000000001393898&amp;g=311.0001393898&amp;u='+urlencode(this.href));\" target=\"_blank\"><span class=\"thumb_box\"><img alt=\"\" class=\"thumb\" height=\"20\" onerror=\"this.src='data:image/gif;base64,R0lGODlhAQABAIAAAAAAAP///yH5BAEAAAAALAAAAAABAAEAAAIBRAA7';this.className='thumb bg_default_press'\" src=\"https://search.pstatic.net/common/?src=https%3A%2F%2Fmimgnews.pstatic.net%2Fimage%2Fupload%2Foffice_logo%2F311%2F2017%2F08%2F28%2Flogo_311_18_20170828172628.jpg&amp;type=f54_54&amp;expire=24&amp;refresh=true\" width=\"20\"/></span>엑스포츠뉴스</a><span class=\"info\">2시간 전</span><a class=\"info\" href=\"https://news.naver.com/main/read.naver?mode=LSD&amp;mid=sec&amp;sid1=106&amp;oid=311&amp;aid=0001393898\" onclick=\"return goOtherCR(this, 'a=nws*e.nav&amp;r=23&amp;i=880005B6_000000000000000001393898&amp;u='+urlencode(this.href));\" target=\"_blank\">네이버뉴스</a> </div></div><a class=\"news_tit\" href=\"https://www.xportsnews.com/article/1520894\" onclick=\"return goOtherCR(this, 'a=nws*e.tit&amp;r=23&amp;i=880005B6_000000000000000001393898&amp;g=311.0001393898&amp;u='+urlencode(this.href));\" target=\"_blank\" title=\"BTS 뷔, 스포티파이 팔로워 500만 명 돌파\"><mark>BTS</mark> 뷔, 스포티파이 팔로워 500만 명 돌파</a> <div class=\"news_dsc\"> <div class=\"dsc_wrap\"> <a class=\"api_txt_lines dsc_txt_wrap\" href=\"https://www.xportsnews.com/article/1520894\" onclick=\"return goOtherCR(this, 'a=nws*e.body&amp;r=23&amp;i=880005B6_000000000000000001393898&amp;g=311.0001393898&amp;u='+urlencode(this.href));\" target=\"_blank\">방탄소년단(<mark>BTS</mark>) 뷔가 세계 최대 음원 플랫폼 스포티파이(Spotify) 팔로워 500만 명을 돌파했다. 케이팝 레이더에 따르면, 방탄소년단 뷔는 최근 스포티파이 팔로워 500만 명을 돌파했다. 이러한 기록은 그의...</a> </div></div></div><a class=\"dsc_thumb \" href=\"https://www.xportsnews.com/article/1520894\" onclick=\"return goOtherCR(this, 'a=nws*e.img&amp;r=23&amp;i=880005B6_000000000000000001393898&amp;g=311.0001393898&amp;u='+urlencode(this.href));\" target=\"_blank\"><img alt=\"BTS 뷔, 스포티파이 팔\" class=\"thumb api_get\" height=\"90\" onerror=\"this.parentNode.style.display='none';\" src=\"https://search.pstatic.net/common/?src=https%3A%2F%2Fimgnews.pstatic.net%2Fimage%2Forigin%2F311%2F2022%2F01%2F05%2F1393898.jpg&amp;type=ff264_180&amp;expire=2&amp;refresh=true\" width=\"132\"/></a> </div></li> <li class=\"bx\" id=\"sp_nws24\"> <div class=\"news_wrap api_ani_send\"> <div class=\"news_area\"> <div class=\"news_info\"> <div class=\"api_save_group _keep_wrap\"> <a aria-pressed=\"false\" class=\"btn_save _keep_trigger\" data-url=\"http://news.mt.co.kr/mtview.php?no=2022010510192968626\" href=\"#\" onclick=\"tCR('a=nws*e.kep&amp;r=24&amp;i=880000C2_000000000000000004692273&amp;u=javascript'); return false;\" role=\"button\"><i class=\"spnew ico_save\">문서 저장하기</i></a> <div class=\"api_ly_save _keep_save_layer\"> <a class=\"spnew_af item item_save _keep_save\" data-cr-off=\"a=nws*e.kepoff&amp;r=24&amp;i=880000C2_000000000000000004692273&amp;u=javascript\" data-cr-on=\"a=nws*e.kepon&amp;r=24&amp;i=880000C2_000000000000000004692273&amp;u=javascript\" href=\"#\" role=\"button\">Keep에 저장</a> <a class=\"spnew_af item item_quick\" href=\"https://keep.naver.com/\" onclick=\"return goOtherCR(this,'a=nws*e.kephome&amp;r=24&amp;i=880000C2_000000000000000004692273&amp;u='+urlencode(this.href));\" target=\"_blank\">Keep 바로가기</a> </div></div><div class=\"info_group\"> <a class=\"info press\" href=\"http://www.mt.co.kr/\" onclick=\"return goOtherCR(this, 'a=nws*e.prof&amp;r=24&amp;i=880000C2_000000000000000004692273&amp;g=008.0004692273&amp;u='+urlencode(this.href));\" target=\"_blank\"><span class=\"thumb_box\"><img alt=\"\" class=\"thumb\" height=\"20\" onerror=\"this.src='data:image/gif;base64,R0lGODlhAQABAIAAAAAAAP///yH5BAEAAAAALAAAAAABAAEAAAIBRAA7';this.className='thumb bg_default_press'\" src=\"https://search.pstatic.net/common/?src=https%3A%2F%2Fmimgnews.pstatic.net%2Fimage%2Fupload%2Foffice_logo%2F008%2F2018%2F09%2F13%2Flogo_008_18_20180913140113.png&amp;type=f54_54&amp;expire=24&amp;refresh=true\" width=\"20\"/></span>머니투데이</a><span class=\"info\">5분 전</span><a class=\"info\" href=\"https://news.naver.com/main/read.naver?mode=LSD&amp;mid=sec&amp;sid1=106&amp;oid=008&amp;aid=0004692273\" onclick=\"return goOtherCR(this, 'a=nws*e.nav&amp;r=24&amp;i=880000C2_000000000000000004692273&amp;u='+urlencode(this.href));\" target=\"_blank\">네이버뉴스</a> </div></div><a class=\"news_tit\" href=\"http://news.mt.co.kr/mtview.php?no=2022010510192968626\" onclick=\"return goOtherCR(this, 'a=nws*e.tit&amp;r=24&amp;i=880000C2_000000000000000004692273&amp;g=008.0004692273&amp;u='+urlencode(this.href));\" target=\"_blank\" title='BTS, 7년간 달라진 위상 보여주는 파티 영상…\"열심히 살았다\"'><mark>BTS</mark>, 7년간 달라진 위상 보여주는 파티 영상…\"열심히 살았다\"</a> <div class=\"news_dsc\"> <div class=\"dsc_wrap\"> <a class=\"api_txt_lines dsc_txt_wrap\" href=\"http://news.mt.co.kr/mtview.php?no=2022010510192968626\" onclick=\"return goOtherCR(this, 'a=nws*e.body&amp;r=24&amp;i=880000C2_000000000000000004692273&amp;g=008.0004692273&amp;u='+urlencode(this.href));\" target=\"_blank\">그룹 방탄소년단(<mark>BTS</mark>)의 7년 전 파티 영상이 온라인 상에서 재조명 받고 있다. 최근 방탄소년단 한 팬의 인스타그램 계정에는 2014년과 2021년 방탄소년단의 파티 모습이 담겼다. 영상 초반부에는 2014년에 데뷔 1주년...</a> </div></div></div><a class=\"dsc_thumb \" href=\"http://news.mt.co.kr/mtview.php?no=2022010510192968626\" onclick=\"return goOtherCR(this, 'a=nws*e.img&amp;r=24&amp;i=880000C2_000000000000000004692273&amp;g=008.0004692273&amp;u='+urlencode(this.href));\" target=\"_blank\"><img alt=\"BTS, 7년간 달라진 위\" class=\"thumb api_get\" height=\"90\" onerror=\"this.parentNode.style.display='none';\" src=\"https://search.pstatic.net/common/?src=https%3A%2F%2Fimgnews.pstatic.net%2Fimage%2Forigin%2F008%2F2022%2F01%2F05%2F4692273.jpg&amp;type=ff264_180&amp;expire=2&amp;refresh=true\" width=\"132\"/></a> </div></li> <li class=\"bx\" id=\"sp_nws25\"> <div class=\"news_wrap api_ani_send\"> <div class=\"news_area\"> <div class=\"news_info\"> <div class=\"api_save_group _keep_wrap\"> <a aria-pressed=\"false\" class=\"btn_save _keep_trigger\" data-url=\"http://starin.edaily.co.kr/news/newspath.asp?newsid=01157846632194768\" href=\"#\" onclick=\"tCR('a=nws*e.kep&amp;r=25&amp;i=880000E7_000000000000000005120366&amp;u=javascript'); return false;\" role=\"button\"><i class=\"spnew ico_save\">문서 저장하기</i></a> <div class=\"api_ly_save _keep_save_layer\"> <a class=\"spnew_af item item_save _keep_save\" data-cr-off=\"a=nws*e.kepoff&amp;r=25&amp;i=880000E7_000000000000000005120366&amp;u=javascript\" data-cr-on=\"a=nws*e.kepon&amp;r=25&amp;i=880000E7_000000000000000005120366&amp;u=javascript\" href=\"#\" role=\"button\">Keep에 저장</a> <a class=\"spnew_af item item_quick\" href=\"https://keep.naver.com/\" onclick=\"return goOtherCR(this,'a=nws*e.kephome&amp;r=25&amp;i=880000E7_000000000000000005120366&amp;u='+urlencode(this.href));\" target=\"_blank\">Keep 바로가기</a> </div></div><div class=\"info_group\"> <a class=\"info press\" href=\"http://www.edaily.co.kr/\" onclick=\"return goOtherCR(this, 'a=nws*e.prof&amp;r=25&amp;i=880000E7_000000000000000005120366&amp;g=018.0005120366&amp;u='+urlencode(this.href));\" target=\"_blank\"><span class=\"thumb_box\"><img alt=\"\" class=\"thumb\" height=\"20\" onerror=\"this.src='data:image/gif;base64,R0lGODlhAQABAIAAAAAAAP///yH5BAEAAAAALAAAAAABAAEAAAIBRAA7';this.className='thumb bg_default_press'\" src=\"https://search.pstatic.net/common/?src=https%3A%2F%2Fmimgnews.pstatic.net%2Fimage%2Fupload%2Foffice_logo%2F018%2F2017%2F01%2F05%2Flogo_018_18_20170105111205.png&amp;type=f54_54&amp;expire=24&amp;refresh=true\" width=\"20\"/></span>이데일리</a><span class=\"info\">2시간 전</span><a class=\"info\" href=\"https://news.naver.com/main/read.naver?mode=LSD&amp;mid=sec&amp;sid1=106&amp;oid=018&amp;aid=0005120366\" onclick=\"return goOtherCR(this, 'a=nws*e.nav&amp;r=25&amp;i=880000E7_000000000000000005120366&amp;u='+urlencode(this.href));\" target=\"_blank\">네이버뉴스</a> </div></div><a class=\"news_tit\" href=\"http://starin.edaily.co.kr/news/newspath.asp?newsid=01157846632194768\" onclick=\"return goOtherCR(this, 'a=nws*e.tit&amp;r=25&amp;i=880000E7_000000000000000005120366&amp;g=018.0005120366&amp;u='+urlencode(this.href));\" target=\"_blank\" title=\"&quot;턴즈 1위 축하&quot;… BTS도 푹 빠진 '스걸파'\">\"턴즈 1위 축하\"… <mark>BTS</mark>도 푹 빠진 '스걸파'</a> <div class=\"news_dsc\"> <div class=\"dsc_wrap\"> <a class=\"api_txt_lines dsc_txt_wrap\" href=\"http://starin.edaily.co.kr/news/newspath.asp?newsid=01157846632194768\" onclick=\"return goOtherCR(this, 'a=nws*e.body&amp;r=25&amp;i=880000E7_000000000000000005120366&amp;g=018.0005120366&amp;u='+urlencode(this.href));\" target=\"_blank\">방탄소년단 정국(왼쪽)과 RM(사진=이데일리DB)[이데일리 스타in 윤기백 기자] “턴즈 1위 축하아아아…” 그룹 방탄소년단(<mark>BTS</mark>) 정국과 RM이 대장정을 마친 ‘스트릿댄스 걸스 파이터’ 댄스 크루들을 응원했다. 정국은 5일...</a> </div></div></div><a class=\"dsc_thumb \" href=\"http://starin.edaily.co.kr/news/newspath.asp?newsid=01157846632194768\" onclick=\"return goOtherCR(this, 'a=nws*e.img&amp;r=25&amp;i=880000E7_000000000000000005120366&amp;g=018.0005120366&amp;u='+urlencode(this.href));\" target=\"_blank\"><img alt='\"턴즈 1위 축하\"… BT' class=\"thumb api_get\" height=\"90\" onerror=\"this.parentNode.style.display='none';\" src=\"https://search.pstatic.net/common/?src=https%3A%2F%2Fimgnews.pstatic.net%2Fimage%2Forigin%2F018%2F2022%2F01%2F05%2F5120366.jpg&amp;type=ff264_180&amp;expire=2&amp;refresh=true\" width=\"132\"/></a> </div></li> <li class=\"bx\" id=\"sp_nws26\"> <div class=\"news_wrap api_ani_send\"> <div class=\"news_area\"> <div class=\"news_info\"> <div class=\"api_save_group _keep_wrap\"> <a aria-pressed=\"false\" class=\"btn_save _keep_trigger\" data-url=\"http://yna.kr/AEN20220105002500315?did=2106m\" href=\"#\" onclick=\"tCR('a=nws*e.kep&amp;r=26&amp;i=880000D8_000000000000000012898119&amp;u=javascript'); return false;\" role=\"button\"><i class=\"spnew ico_save\">문서 저장하기</i></a> <div class=\"api_ly_save _keep_save_layer\"> <a class=\"spnew_af item item_save _keep_save\" data-cr-off=\"a=nws*e.kepoff&amp;r=26&amp;i=880000D8_000000000000000012898119&amp;u=javascript\" data-cr-on=\"a=nws*e.kepon&amp;r=26&amp;i=880000D8_000000000000000012898119&amp;u=javascript\" href=\"#\" role=\"button\">Keep에 저장</a> <a class=\"spnew_af item item_quick\" href=\"https://keep.naver.com/\" onclick=\"return goOtherCR(this,'a=nws*e.kephome&amp;r=26&amp;i=880000D8_000000000000000012898119&amp;u='+urlencode(this.href));\" target=\"_blank\">Keep 바로가기</a> </div></div><div class=\"info_group\"> <a class=\"info press\" href=\"https://www.yna.co.kr/\" onclick=\"return goOtherCR(this, 'a=nws*e.prof&amp;r=26&amp;i=880000D8_000000000000000012898119&amp;g=001.0012898119&amp;u='+urlencode(this.href));\" target=\"_blank\"><span class=\"thumb_box\"><img alt=\"\" class=\"thumb\" height=\"20\" onerror=\"this.src='data:image/gif;base64,R0lGODlhAQABAIAAAAAAAP///yH5BAEAAAAALAAAAAABAAEAAAIBRAA7';this.className='thumb bg_default_press'\" src=\"https://search.pstatic.net/common/?src=https%3A%2F%2Fmimgnews.pstatic.net%2Fimage%2Fupload%2Foffice_logo%2F001%2F2017%2F06%2F29%2Flogo_001_18_20170629160329.png&amp;type=f54_54&amp;expire=24&amp;refresh=true\" width=\"20\"/></span>연합뉴스</a><span class=\"info\">1시간 전</span><a class=\"info\" href=\"https://news.naver.com/main/read.naver?mode=LSD&amp;mid=sec&amp;sid1=104&amp;oid=001&amp;aid=0012898119\" onclick=\"return goOtherCR(this, 'a=nws*e.nav&amp;r=26&amp;i=880000D8_000000000000000012898119&amp;u='+urlencode(this.href));\" target=\"_blank\">네이버뉴스</a> </div></div><a class=\"news_tit\" href=\"http://yna.kr/AEN20220105002500315?did=2106m\" onclick=\"return goOtherCR(this, 'a=nws*e.tit&amp;r=26&amp;i=880000D8_000000000000000012898119&amp;g=001.0012898119&amp;u='+urlencode(this.href));\" target=\"_blank\" title=\"BTS member-Billboard\"><mark>BTS</mark> member-Billboard</a> <div class=\"news_dsc\"> <div class=\"dsc_wrap\"> <a class=\"api_txt_lines dsc_txt_wrap\" href=\"http://yna.kr/AEN20220105002500315?did=2106m\" onclick=\"return goOtherCR(this, 'a=nws*e.body&amp;r=26&amp;i=880000D8_000000000000000012898119&amp;g=001.0012898119&amp;u='+urlencode(this.href));\" target=\"_blank\"><mark>BTS</mark> V's 'Christmas Tree' debuts on Billboard's Hot 100 chart SEOUL, Jan. 5 (Yonhap) -- V, a member of the K-pop supergroup <mark>BTS</mark>, is about to make it onto the Billboard main singles chart for this...</a> </div></div></div><a class=\"dsc_thumb \" href=\"http://yna.kr/AEN20220105002500315?did=2106m\" onclick=\"return goOtherCR(this, 'a=nws*e.img&amp;r=26&amp;i=880000D8_000000000000000012898119&amp;g=001.0012898119&amp;u='+urlencode(this.href));\" target=\"_blank\"><img alt=\"BTS member-Billboard\" class=\"thumb api_get\" height=\"90\" onerror=\"this.parentNode.style.display='none';\" src=\"https://search.pstatic.net/common/?src=https%3A%2F%2Fimgnews.pstatic.net%2Fimage%2Forigin%2F001%2F2022%2F01%2F05%2F12898119.jpg&amp;type=ff264_180&amp;expire=2&amp;refresh=true\" width=\"132\"/></a> </div></li> <li class=\"bx\" id=\"sp_nws27\"> <div class=\"news_wrap api_ani_send\"> <div class=\"news_area\"> <div class=\"news_info\"> <div class=\"api_save_group _keep_wrap\"> <a aria-pressed=\"false\" class=\"btn_save _keep_trigger\" data-url=\"https://www.ytn.co.kr/_ln/0106_202201031802143766\" href=\"#\" onclick=\"tCR('a=nws*h.kep&amp;r=27&amp;i=880000AF_000000000000000001685036&amp;u=javascript'); return false;\" role=\"button\"><i class=\"spnew ico_save\">문서 저장하기</i></a> <div class=\"api_ly_save _keep_save_layer\"> <a class=\"spnew_af item item_save _keep_save\" data-cr-off=\"a=nws*h.kepoff&amp;r=27&amp;i=880000AF_000000000000000001685036&amp;u=javascript\" data-cr-on=\"a=nws*h.kepon&amp;r=27&amp;i=880000AF_000000000000000001685036&amp;u=javascript\" href=\"#\" role=\"button\">Keep에 저장</a> <a class=\"spnew_af item item_quick\" href=\"https://keep.naver.com/\" onclick=\"return goOtherCR(this,'a=nws*h.kephome&amp;r=27&amp;i=880000AF_000000000000000001685036&amp;u='+urlencode(this.href));\" target=\"_blank\">Keep 바로가기</a> </div></div><div class=\"info_group\"> <a class=\"info press\" href=\"http://www.ytn.co.kr/\" onclick=\"return goOtherCR(this, 'a=nws*h.prof&amp;r=27&amp;i=880000AF_000000000000000001685036&amp;g=052.0001685036&amp;u='+urlencode(this.href));\" target=\"_blank\"><span class=\"thumb_box\"><img alt=\"\" class=\"thumb\" height=\"20\" onerror=\"this.src='data:image/gif;base64,R0lGODlhAQABAIAAAAAAAP///yH5BAEAAAAALAAAAAABAAEAAAIBRAA7';this.className='thumb bg_default_press'\" src=\"https://search.pstatic.net/common/?src=https%3A%2F%2Fmimgnews.pstatic.net%2Fimage%2Fupload%2Foffice_logo%2F052%2F2021%2F10%2F19%2Flogo_052_18_20211019113554.png&amp;type=f54_54&amp;expire=24&amp;refresh=true\" width=\"20\"/></span>YTN<i class=\"spnew ico_pick\">언론사 선정</i></a><span class=\"info\">1일 전</span><a class=\"info\" href=\"https://news.naver.com/main/read.naver?mode=LSD&amp;mid=sec&amp;sid1=103&amp;oid=052&amp;aid=0001685036\" onclick=\"return goOtherCR(this, 'a=nws*h.nav&amp;r=27&amp;i=880000AF_000000000000000001685036&amp;u='+urlencode(this.href));\" target=\"_blank\">네이버뉴스</a> </div></div><a class=\"news_tit\" href=\"https://www.ytn.co.kr/_ln/0106_202201031802143766\" onclick=\"return goOtherCR(this, 'a=nws*h.tit&amp;r=27&amp;i=880000AF_000000000000000001685036&amp;g=052.0001685036&amp;u='+urlencode(this.href));\" target=\"_blank\" title=\"'BTS 잠옷' 고가 논란...제작 참여한 멤버도 '갸우뚱'\">'<mark>BTS</mark> 잠옷' 고가 논란...제작 참여한 멤버도 '갸우뚱'</a> <div class=\"news_dsc\"> <div class=\"dsc_wrap\"> <a class=\"api_txt_lines dsc_txt_wrap\" href=\"https://www.ytn.co.kr/_ln/0106_202201031802143766\" onclick=\"return goOtherCR(this, 'a=nws*h.body&amp;r=27&amp;i=880000AF_000000000000000001685036&amp;g=052.0001685036&amp;u='+urlencode(this.href));\" target=\"_blank\">방탄소년단 소속사 하이브는 팬 커뮤니티 '위버스 샵'을 통해 <mark>BTS</mark> 멤버 '진'이 제작에 참여한 잠옷을 11만9천 원에, 베개는 6만9천 원에 판매할 예정이라고 밝혔습니다. 이에 대해 팬들 사이에서는 고급 소재도 아닌 잠옷이...</a> </div></div></div><a class=\"dsc_thumb type_video\" href=\"https://www.ytn.co.kr/_ln/0106_202201031802143766\" onclick=\"return goOtherCR(this, 'a=nws*h.img&amp;r=27&amp;i=880000AF_000000000000000001685036&amp;g=052.0001685036&amp;u='+urlencode(this.href));\" target=\"_blank\"><img alt=\"‘BTS 잠옷‘ 고가 논란\" class=\"thumb api_get\" height=\"90\" onerror=\"this.parentNode.style.display='none';\" src=\"https://search.pstatic.net/common/?src=https%3A%2F%2Fimgnews.pstatic.net%2Fimage%2Forigin%2F052%2F2022%2F01%2F03%2F1685036.jpg&amp;type=ff264_180&amp;expire=2&amp;refresh=true\" width=\"132\"/><i class=\"spnew api_ico_svideo\">동영상</i></a> </div><div class=\"news_cluster\"> <ul class=\"list_cluster\"> <li class=\"sub_bx\"> <span class=\"sub_wrap\"> <span class=\"sub_area\"> <cite class=\"sub_txt press\" title=\"중앙일보\">중앙일보<i class=\"spnew ico_pick\">언론사 선정</i></cite><span class=\"sub_txt\">1일 전</span><a class=\"sub_txt\" href=\"https://news.naver.com/main/read.naver?mode=LSD&amp;mid=sec&amp;sid1=103&amp;oid=025&amp;aid=0003163893\" onclick=\"return goOtherCR(this, 'a=nws*i.nav&amp;r=28&amp;i=880000F2_000000000000000003163893&amp;u='+urlencode(this.href));\" target=\"_blank\">네이버뉴스</a> </span><a class=\"elss sub_tit\" href=\"https://www.joongang.co.kr/article/25037814\" onclick=\"return goOtherCR(this, 'a=nws*i.tit&amp;r=28&amp;i=880000F2_000000000000000003163893&amp;g=025.0003163893&amp;u='+urlencode(this.href));\" target=\"_blank\" title='11만원 넘는 BTS 잠옷 발칵…\"무슨 가격이\" 멤버도 놀랐다'>11만원 넘는 <mark>BTS</mark> 잠옷 발칵…\"무슨 가격이\" 멤버도 놀랐다</a> </span></li> <li class=\"sub_bx\"> <span class=\"sub_wrap\"> <span class=\"sub_area\"> <cite class=\"sub_txt press\" title=\"조선비즈\">조선비즈<i class=\"spnew ico_pick\">언론사 선정</i></cite><span class=\"sub_txt\">1일 전</span><a class=\"sub_txt\" href=\"https://news.naver.com/main/read.naver?mode=LSD&amp;mid=sec&amp;sid1=101&amp;oid=366&amp;aid=0000784777\" onclick=\"return goOtherCR(this, 'a=nws*i.nav&amp;r=29&amp;i=88127058_000000000000000000784777&amp;u='+urlencode(this.href));\" target=\"_blank\">네이버뉴스</a> </span><a class=\"elss sub_tit\" href=\"https://biz.chosun.com/industry/company/2022/01/03/6EEMDJDYRNFLNE2OH7EIUAPTC4/?utm_source=naver&amp;utm_medium=original&amp;utm_campaign=biz\" onclick=\"return goOtherCR(this, 'a=nws*i.tit&amp;r=29&amp;i=88127058_000000000000000000784777&amp;g=366.0000784777&amp;u='+urlencode(this.href));\" target=\"_blank\" title=\"잠옷 한 벌이 11만원… BTS도 가격에 놀란 ‘BTS 잠옷’\">잠옷 한 벌이 11만원… <mark>BTS</mark>도 가격에 놀란 ‘<mark>BTS</mark> 잠옷’</a> </span></li> <li class=\"sub_bx\"> <span class=\"sub_wrap\"> <span class=\"sub_area\"> <cite class=\"sub_txt press\" title=\"한국경제TV\">한국경제TV<i class=\"spnew ico_pick\">언론사 선정</i></cite><span class=\"sub_txt\">1일 전</span><a class=\"sub_txt\" href=\"https://news.naver.com/main/read.naver?mode=LSD&amp;mid=sec&amp;sid1=102&amp;oid=215&amp;aid=0001007111\" onclick=\"return goOtherCR(this, 'a=nws*i.nav&amp;r=30&amp;i=88000149_000000000000000001007111&amp;u='+urlencode(this.href));\" target=\"_blank\">네이버뉴스</a> </span><a class=\"elss sub_tit\" href=\"http://www.wowtv.co.kr/NewsCenter/News/Read?articleId=A202201030293&amp;t=NN\" onclick=\"return goOtherCR(this, 'a=nws*i.tit&amp;r=30&amp;i=88000149_000000000000000001007111&amp;g=215.0001007111&amp;u='+urlencode(this.href));\" target=\"_blank\" title=\"BTS '진'도 놀랐다...&quot;잠옷이 11만원?&quot;\"><mark>BTS</mark> '진'도 놀랐다...\"잠옷이 11만원?\"</a> </span></li> <li class=\"sub_bx\"> <span class=\"sub_wrap\"> <span class=\"sub_area\"> <cite class=\"sub_txt press\" title=\"뉴시스\">뉴시스</cite><span class=\"sub_txt\">1일 전</span><a class=\"sub_txt\" href=\"https://news.naver.com/main/read.naver?mode=LSD&amp;mid=sec&amp;sid1=106&amp;oid=003&amp;aid=0010924826\" onclick=\"return goOtherCR(this, 'a=nws*c.nav&amp;r=31&amp;i=88000127_000000000000000010924826&amp;u='+urlencode(this.href));\" target=\"_blank\">네이버뉴스</a> </span><a class=\"elss sub_tit\" href=\"http://www.newsis.com/view/?id=NISX20220103_0001711586&amp;cID=10601&amp;pID=10600\" onclick=\"return goOtherCR(this, 'a=nws*c.tit&amp;r=31&amp;i=88000127_000000000000000010924826&amp;g=003.0010924826&amp;u='+urlencode(this.href));\" target=\"_blank\" title='\"잠옷이 12만원\"…디자인 참여한 BTS 진도 놀랐다'>\"잠옷이 12만원\"…디자인 참여한 <mark>BTS</mark> 진도 놀랐다</a> </span></li> </ul></div><a class=\"news_more\" href=\"?where=news&amp;sm=tab_tnw&amp;query=bts&amp;sort=0&amp;photo=0&amp;field=0&amp;pd=0&amp;ds=&amp;de=&amp;mynews=0&amp;office_type=0&amp;office_section_code=0&amp;news_office_checked=&amp;related=1&amp;docid=0520001685036&amp;nso=so:r,p:all,a:all\" onclick=\"return goOtherCR(this, 'a=nws*r.more&amp;u='+urlencode(urlexpand(this.href)));\">관련뉴스 8건 전체보기<i class=\"spnew ico_arrow\"></i></a> </li> </ul> </div>]\n",
      "한 벌에 12만원…BTS도 놀란 ‘BTS 잠옷’ 가격\n",
      "네이버웹툰, BTS 슈퍼캐스팅 옥외광고 코엑스 케이팝 스퀘어에 공개\n",
      "BTS 뷔가 부른 OST, 한국 첫 빌보드 ‘핫 100‘ 진입\n",
      "BTS 후보 오른 그래미 시상식, 오미크론 여파 연기 가능성\n",
      "\"BTS가 베개 팔아요\"…'팬더스트리' 공략 나선 미디어커머스 업계\n",
      "BTS 뷔, 스포티파이 팔로워 500만 명 돌파\n",
      "BTS, 7년간 달라진 위상 보여주는 파티 영상…\"열심히 살았다\"\n",
      "\"턴즈 1위 축하\"… BTS도 푹 빠진 '스걸파'\n",
      "BTS member-Billboard\n",
      "'BTS 잠옷' 고가 논란...제작 참여한 멤버도 '갸우뚱'\n"
     ]
    }
   ],
   "source": [
    "import requests\n",
    "from bs4 import BeautifulSoup\n",
    "\n",
    "url = 'https://search.naver.com/search.naver?where=news&sm=tab_jum&query=bts'\n",
    "\n",
    "response = requests.get(url)\n",
    "\n",
    "if response.status_code == 200:\n",
    "    html = response.text\n",
    "    soup = BeautifulSoup(html, 'html.parser')\n",
    "    \n",
    "    title = soup.select('#main_pack > section > div > div.group_news')\n",
    "    news_title = soup.find_all('a', {'class': 'news_tit'})\n",
    "    \n",
    "        \n",
    "    for t in news_title :\n",
    "         print(t.get_text())\n",
    "    \n",
    "else : \n",
    "    print(response.status_code)"
   ]
  },
  {
   "cell_type": "code",
   "execution_count": 23,
   "id": "dbd72855-83d5-4d96-9a55-06ac375d0659",
   "metadata": {},
   "outputs": [
    {
     "name": "stdout",
     "output_type": "stream",
     "text": [
      "우리자산운용, AI 활용 ESG액티브 ETF 신규상장\n",
      "AI가 사업화 가능한 공공기술 골라준다\n",
      "KT \"커피명가, 40여개 매장에 'AI 통화비서'서비스 도입\"\n",
      "KT-윤슬의 아침, AI 주택시장 공동 개척 업무협약 체결\n",
      "KAIST, 인공지능(AI)의 오랜 난제 뇌 기반 AI로 풀어\n",
      "보쉬 CES서 “AI·IoT 결합으로 부가가치 창출…개인과 사회를 이롭게”\n",
      "한화시스템, 펀진과 ‘엣지AI 시스템’ 기술협력 MOU\n",
      "‘AI 윤리’ 연구하는 옥스퍼드대 교수의 경고\n",
      "동반자 로봇·AI 아바타...혁신에 혁신을 입히다[CES 2022]\n",
      "졸음 감지해 스스로 주행환경 제어···'전장·AI·AR' 다 묶은 팀삼성 [CES...\n"
     ]
    },
    {
     "data": {
      "text/plain": [
       "[]"
      ]
     },
     "execution_count": 23,
     "metadata": {},
     "output_type": "execute_result"
    }
   ],
   "source": [
    "import requests\n",
    "from bs4 import BeautifulSoup\n",
    "\n",
    "#str = input('')\n",
    "url = 'https://search.naver.com/search.naver?where=news&sm=tab_jum&query=ai'# +str\n",
    "\n",
    "response = requests.get(url)\n",
    "\n",
    "if response.status_code == 200:\n",
    "    html = response.text\n",
    "    soup = BeautifulSoup(html, 'html.parser')\n",
    "    ul = soup.select_one('#main_pack > section > div > div.group_news > ul')\n",
    "    \n",
    "    #print(ul)\n",
    "    titles = ul.select('li > div > div > a')\n",
    "    #print(titles)\n",
    "    for title in titles:\n",
    "         print(title.get_text())\n",
    "else : \n",
    "    print(response.status_code)\n",
    "    \n",
    "    \n",
    "soup.find_all('#main_pack > section.sc_new.sp_nreview')"
   ]
  },
  {
   "cell_type": "code",
   "execution_count": 14,
   "id": "71a39d82-2595-4d52-b473-6bad48012e21",
   "metadata": {},
   "outputs": [
    {
     "name": "stdout",
     "output_type": "stream",
     "text": [
      "[]\n"
     ]
    }
   ],
   "source": [
    "import requests\n",
    "from bs4 import BeautifulSoup\n",
    "\n",
    "url = 'https://www.weather.go.kr/w/index.do'\n",
    "\n",
    "response = requests.get(url)\n",
    "\n",
    "if response.status_code == 200:\n",
    "    html = response.text\n",
    "    soup = BeautifulSoup(html, 'html.parser')\n",
    "    aa = soup.select('#digital-forecast > div.cmp-dfs-slider.hr1-fct > div.dfs-tab-body > div.dfs-slider')\n",
    "    \n",
    "    print(aa)"
   ]
  }
 ],
 "metadata": {
  "kernelspec": {
   "display_name": "Python 3 (ipykernel)",
   "language": "python",
   "name": "python3"
  },
  "language_info": {
   "codemirror_mode": {
    "name": "ipython",
    "version": 3
   },
   "file_extension": ".py",
   "mimetype": "text/x-python",
   "name": "python",
   "nbconvert_exporter": "python",
   "pygments_lexer": "ipython3",
   "version": "3.9.7"
  }
 },
 "nbformat": 4,
 "nbformat_minor": 5
}
